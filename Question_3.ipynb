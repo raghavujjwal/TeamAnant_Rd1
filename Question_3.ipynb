{
 "cells": [
  {
   "cell_type": "code",
   "execution_count": 24,
   "metadata": {},
   "outputs": [],
   "source": [
    "import numpy as np\n",
    "import pandas as pd\n",
    "import geopandas as gpd\n",
    "from sklearn.ensemble import RandomForestRegressor\n",
    "from sklearn.metrics import mean_squared_error\n",
    "from sklearn.model_selection import train_test_split\n",
    "import matplotlib.pyplot as plt\n",
    "import rasterio"
   ]
  },
  {
   "cell_type": "code",
   "execution_count": null,
   "metadata": {},
   "outputs": [],
   "source": [
    "def load_and_harmonize_data(historical_path, cubesat_path):\n",
    "    historical_data = gpd.read_file(historical_path)\n",
    "    cubesat_data = gpd.read_file(cubesat_path)\n",
    "\n",
    "    historical_data = historical_data.to_crs(epsg=4326)\n",
    "    cubesat_data = cubesat_data.to_crs(epsg=4326)\n",
    "    \n",
    "  \n",
    "\n",
    "    historical_data['timestamp'] = pd.to_datetime(historical_data['timestamp'])\n",
    "    cubesat_data['timestamp'] = pd.to_datetime(cubesat_data['timestamp'])\n",
    "\n",
    "    combined_data = pd.concat([historical_data, cubesat_data], ignore_index=True)\n",
    "\n",
    "    combined_data = pd.concat([historical_data, cubesat_data], ignore_index=True)\n",
    "    return combined_data"
   ]
  },
  {
   "cell_type": "code",
   "execution_count": null,
   "metadata": {},
   "outputs": [],
   "source": [
    "def compute_ndvi(data):\n",
    "     data['NDVI'] = (data['NIR'] - data['Red']) / (data['NIR'] + data['Red'])\n",
    "     return data\n"
   ]
  },
  {
   "cell_type": "code",
   "execution_count": null,
   "metadata": {},
   "outputs": [],
   "source": [
    "def add_time_features(data):\n",
    "    data['month'] = data['timestamp'].dt.month\n",
    "    data['year'] = data['timestamp'].dt.year\n",
    "    return data"
   ]
  },
  {
   "cell_type": "code",
   "execution_count": null,
   "metadata": {},
   "outputs": [],
   "source": [
    "def detect_deforestation(data, ndvi_threshold=0.3):\n",
    "    data['deforestation'] = data['NDVI'] < ndvi_threshold\n",
    "    return data"
   ]
  },
  {
   "cell_type": "code",
   "execution_count": null,
   "metadata": {},
   "outputs": [],
   "source": [
    "def process_satellite_image(image_path, timestamp):\n",
    "    with rasterio.open(image_path) as src:\n",
    "        red = src.read(1)\n",
    "        nir = src.read(2)\n",
    "        ndvi = (nir - red) / (nir + red + 1e-10)\n",
    "        return ndvi, timestamp"
   ]
  },
  {
   "cell_type": "code",
   "execution_count": null,
   "metadata": {},
   "outputs": [],
   "source": [
    "def aggregate_ndvi(ndvi, timestamp, region_id='region_1'):\n",
    "    mean_ndvi = np.nanmean(ndvi)\n",
    "    return {'timestamp': timestamp, 'region_id': region_id, 'mean_ndvi': mean_ndvi}"
   ]
  },
  {
   "cell_type": "code",
   "execution_count": null,
   "metadata": {},
   "outputs": [],
   "source": [
    "def create_ndvi_timeseries(image_paths, timestamps):\n",
    "    time_series_data = []\n",
    "    for image_path, timestamp in zip(image_paths, timestamps):\n",
    "        ndvi, ts = process_satellite_image(image_path, timestamp)\n",
    "        aggregated = aggregate_ndvi(ndvi, ts)\n",
    "        time_series_data.append(aggregated)\n",
    "    return pd.DataFrame(time_series_data)"
   ]
  },
  {
   "cell_type": "code",
   "execution_count": null,
   "metadata": {},
   "outputs": [],
   "source": [
    "def harmonize_and_compute_ndvi(image_paths, timestamps, target_resolution, target_crs):\n",
    "    ndvi_list = []\n",
    "    for image_path, timestamp in zip(image_paths, timestamps):\n",
    "        data = load_and_resample_image(image_path, target_resolution, target_crs)\n",
    "        red, nir = data[0], data[1]\n",
    "        ndvi = (nir - red) / (nir + red + 1e-10)\n",
    "        ndvi_list.append({'timestamp': pd.to_datetime(timestamp), 'ndvi': ndvi})\n",
    "    return ndvi_list"
   ]
  },
  {
   "cell_type": "code",
   "execution_count": null,
   "metadata": {},
   "outputs": [],
   "source": [
    "def merge_image_datasets(dataset1, dataset2):\n",
    "    all_timestamps = sorted(set(d['timestamp'] for d in dataset1 + dataset2))\n",
    "    merged_data = []\n",
    "\n",
    "    for timestamp in all_timestamps:\n",
    "        images = [d for d in dataset1 + dataset2 if d['timestamp'] == timestamp]\n",
    "        if images:\n",
    "            mean_ndvi = np.nanmean([np.nanmean(img['ndvi']) for img in images])\n",
    "            merged_data.append({'timestamp': timestamp, 'mean_ndvi': mean_ndvi})\n",
    "    return pd.DataFrame(merged_data)"
   ]
  },
  {
   "cell_type": "code",
   "execution_count": null,
   "metadata": {},
   "outputs": [],
   "source": [
    "def prepare_time_series_data(data, target_col='NDVI', lags=12):\n",
    "    ts_data = data.copy()\n",
    "    for lag in range(1, lags + 1):\n",
    "        ts_data[f'lag_{lag}'] = ts_data[target_col].shift(lag)\n",
    "    ts_data = ts_data.dropna()\n",
    "    return ts_data"
   ]
  },
  {
   "cell_type": "code",
   "execution_count": null,
   "metadata": {},
   "outputs": [],
   "source": [
    "def forecast_deforestation(ts_data, target_col='NDVI'):\n",
    "    X = ts_data[[col for col in ts_data.columns if 'lag_' in col]]\n",
    "    y = ts_data[target_col]\n",
    "X_train, X_test, y_train, y_test = train_test_split(X, y, test_size=0.2, random_state=42)\n",
    "\n",
    "model = RandomForestRegressor(n_estimators=100, random_state=42)\n",
    "model.fit(X_train, y_train)\n",
    "\n",
    "y_pred = model.predict(X_test)\n",
    "mse = mean_squared_error(y_test, y_pred)\n",
    "print(f'Mean Squared Error: {mse}')\n",
    "\n"
   ]
  },
  {
   "cell_type": "code",
   "execution_count": null,
   "metadata": {},
   "outputs": [],
   "source": [
    "plt.figure(figsize=(10, 5))\n",
    "plt.plot(y_test.values, label='Actual', marker='o')\n",
    "plt.plot(y_pred, label='Predicted', marker='x')\n",
    "plt.legend()\n",
    "plt.title('NDVI Forecasting')\n",
    "plt.show()\n",
    "\n",
    "return model"
   ]
  },
  {
   "cell_type": "code",
   "execution_count": null,
   "metadata": {},
   "outputs": [],
   "source": [
    "def validate_with_ground_truth(data, ground_truth_path):\n",
    "    ground_truth = gpd.read_file(ground_truth_path)\n",
    "    ground_truth = ground_truth.to_crs(data.crs)\n",
    "\n",
    "    validation_data = gpd.sjoin(data, ground_truth, how='inner', predicate='intersects')\n",
    "    validation_accuracy = validation_data['deforestation'].mean()\n",
    "    print(f'Validation Accuracy: {validation_accuracy}')\n",
    "\n",
    "    return validation_accuracy"
   ]
  },
  {
   "cell_type": "code",
   "execution_count": null,
   "metadata": {},
   "outputs": [],
   "source": [
    "if __name__ == '__main__':\n",
    "    historical_path = 'path_to_historical_data.geojson'\n",
    "    cubesat_path = 'path_to_cubesat_data.geojson'\n",
    "    ground_truth_path = 'path_to_ground_truth_data.geojson'\n",
    "    image_paths = ['path_to_image1.tif', 'path_to_image2.tif']\n",
    "    timestamps = ['2022-01-01', '2022-02-01']\n",
    "    combined_data = load_and_harmonize_data(historical_path, cubesat_path)\n",
    "    combined_data = compute_ndvi(combined_data)\n",
    "    combined_data = add_time_features(combined_data)\n",
    "    combined_data = detect_deforestation(combined_data)\n",
    "    ts_data = prepare_time_series_data(combined_data)\n",
    "    model = forecast_deforestation(ts_data)\n",
    "    historical_ndvi = harmonize_and_compute_ndvi(image_paths, timestamps, target_resolution=(10, 10), target_crs='EPSG:4326')\n",
    "    cubesat_ndvi = harmonize_and_compute_ndvi(image_paths, timestamps, target_resolution=(10, 10), target_crs='EPSG:4326')\n",
    "    merged_ndvi = merge_image_datasets(historical_ndvi, cubesat_ndvi)\n",
    "    plot_ndvi_trends(pd.DataFrame(merged_ndvi))\n",
    "    validate_with_ground_truth(combined_data, ground_truth_path)"
   ]
  }
 ],
 "metadata": {
  "kernelspec": {
   "display_name": "pytorch_env",
   "language": "python",
   "name": "python3"
  },
  "language_info": {
   "codemirror_mode": {
    "name": "ipython",
    "version": 3
   },
   "file_extension": ".py",
   "mimetype": "text/x-python",
   "name": "python",
   "nbconvert_exporter": "python",
   "pygments_lexer": "ipython3",
   "version": "3.12.5"
  }
 },
 "nbformat": 4,
 "nbformat_minor": 2
}
