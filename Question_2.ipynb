{
 "cells": [
  {
   "cell_type": "code",
   "execution_count": 1,
   "metadata": {},
   "outputs": [],
   "source": [
    "import numpy as np\n",
    "import matplotlib.pyplot as plt\n",
    "from skimage.metrics import peak_signal_noise_ratio as psnr\n",
    "from skimage.metrics import structural_similarity as ssim"
   ]
  },
  {
   "cell_type": "code",
   "execution_count": 2,
   "metadata": {},
   "outputs": [],
   "source": [
    "def calculate_ndvi(red_band, nir_band):\n",
    "    return (nir_band - red_band) / (nir_band + red_band)\n",
    "\n",
    "def calculate_compression_ratio(original_size, compressed_size):\n",
    "    return original_size / compressed_size\n",
    "\n",
    "def calculate_psnr(original_image, compressed_image):\n",
    "    return psnr(original_image, compressed_image)\n",
    "\n",
    "def calculate_ssim(original_image, compressed_image):\n",
    "    return ssim(original_image, compressed_image, multichannel=True)\n",
    "\n",
    "def visualize_ndvi_comparison(original_image, compressed_image, bands=(\"Red\", \"NIR\")):\n",
    "    original_ndvi = calculate_ndvi(original_image[bands[0]], original_image[bands[1]])\n",
    "    compressed_ndvi = calculate_ndvi(compressed_image[bands[0]], compressed_image[bands[1]])\n",
    "    plt.figure(figsize=(10, 5))\n",
    "    plt.subplot(1, 2, 1)\n",
    "    plt.imshow(original_ndvi, cmap='RdYlGn')\n",
    "    plt.title(\"Original NDVI\")\n",
    "    plt.colorbar()\n",
    "    \n",
    "    plt.subplot(1, 2, 2)\n",
    "    plt.imshow(compressed_ndvi, cmap='RdYlGn')\n",
    "    plt.title(\"Compressed NDVI\")\n",
    "    plt.colorbar()\n",
    "    plt.show()"
   ]
  },
  {
   "cell_type": "code",
   "execution_count": 3,
   "metadata": {},
   "outputs": [],
   "source": [
    "def calculate_ndvi_difference(original_image, compressed_image, bands=(\"Red\", \"NIR\")):\n",
    "    original_ndvi = calculate_ndvi(original_image[bands[0]], original_image[bands[1]])\n",
    "    compressed_ndvi = calculate_ndvi(compressed_image[bands[0]], compressed_image[bands[1]])\n",
    "    return np.abs(original_ndvi - compressed_ndvi)"
   ]
  }
 ],
 "metadata": {
  "kernelspec": {
   "display_name": "pytorch_env",
   "language": "python",
   "name": "python3"
  },
  "language_info": {
   "codemirror_mode": {
    "name": "ipython",
    "version": 3
   },
   "file_extension": ".py",
   "mimetype": "text/x-python",
   "name": "python",
   "nbconvert_exporter": "python",
   "pygments_lexer": "ipython3",
   "version": "3.12.5"
  }
 },
 "nbformat": 4,
 "nbformat_minor": 2
}
