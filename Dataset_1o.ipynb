{
 "cells": [
  {
   "cell_type": "code",
   "execution_count": null,
   "metadata": {},
   "outputs": [],
   "source": [
    "from sentinelsat import SentinelAPI, read_geojson, geojson_to_wkt\n",
    "from datetime import date\n",
    "import geopandas as gpd\n",
    "import cv2\n",
    "import numpy as np\n",
    "import rasterio\n",
    "from rasterio.enums import Resampling\n",
    "from skimage import exposure\n",
    "import matplotlib.pyplot as plt"
   ]
  },
  {
   "cell_type": "code",
   "execution_count": null,
   "metadata": {},
   "outputs": [],
   "source": [
    "api = SentinelAPI('your_username', 'your_password', 'https://scihub.copernicus.eu/dhus')\n",
    "footprint = geojson_to_wkt(read_geojson('aoi.geojson'))\n",
    "products = api.query(footprint,\n",
    "                     date=('20220101', '20220131'),\n",
    "                     platformname='Sentinel-2',\n",
    "                     cloudcoverpercentage=(0, 30))\n",
    "api.download_all(products)"
   ]
  },
  {
   "cell_type": "code",
   "execution_count": null,
   "metadata": {},
   "outputs": [],
   "source": [
    "img_path = 'sentinel_image.tif'\n",
    "with rasterio.open(img_path) as src:\n",
    "    img = src.read([1, 2, 3, 4])\n",
    "    img = np.moveaxis(img, 0, -1)"
   ]
  },
  {
   "cell_type": "code",
   "execution_count": null,
   "metadata": {},
   "outputs": [],
   "source": [
    "def add_radiometric_error(image, noise_level=0.05):\n",
    "    noise = np.random.normal(scale=noise_level, size=image.shape)\n",
    "    return np.clip(image + noise, 0, 255)\n",
    "\n",
    "img_with_radiometric_error = add_radiometric_error(img)"
   ]
  },
  {
   "cell_type": "code",
   "execution_count": null,
   "metadata": {},
   "outputs": [],
   "source": [
    "def apply_geometric_distortion(image, angle=15):\n",
    "    (h, w) = image.shape[:2]\n",
    "    center = (w // 2, h // 2)\n",
    "    rotation_matrix = cv2.getRotationMatrix2D(center, angle, 1.0)\n",
    "    rotated_image = cv2.warpAffine(image, rotation_matrix, (w, h), flags=cv2.INTER_LINEAR)\n",
    "    return rotated_image\n",
    "\n",
    "img_with_geometric_distortion = apply_geometric_distortion(img_with_radiometric_error)"
   ]
  },
  {
   "cell_type": "code",
   "execution_count": null,
   "metadata": {},
   "outputs": [],
   "source": [
    "def apply_spectral_error(image, band=0):\n",
    "    image[:, :, band] = image[:, :, band] * 1.2\n",
    "    return np.clip(image, 0, 255)\n",
    "img_with_spectral_error = apply_spectral_error(img_with_geometric_distortion)"
   ]
  },
  {
   "cell_type": "code",
   "execution_count": null,
   "metadata": {},
   "outputs": [],
   "source": [
    "fig, axes = plt.subplots(1, 4, figsize=(20, 5))\n",
    "axes[0].imshow(img)\n",
    "axes[0].set_title(\"Original Image\")\n",
    "axes[1].imshow(img_with_radiometric_error)\n",
    "axes[1].set_title(\"Radiometric Error\")\n",
    "axes[2].imshow(img_with_geometric_distortion)\n",
    "axes[2].set_title(\"Geometric Distortion\")\n",
    "axes[3].imshow(img_with_spectral_error)\n",
    "axes[3].set_title(\"Spectral Error\")\n",
    "plt.show()"
   ]
  }
 ],
 "metadata": {
  "kernelspec": {
   "display_name": "pytorch_env",
   "language": "python",
   "name": "python3"
  },
  "language_info": {
   "codemirror_mode": {
    "name": "ipython",
    "version": 3
   },
   "file_extension": ".py",
   "mimetype": "text/x-python",
   "name": "python",
   "nbconvert_exporter": "python",
   "pygments_lexer": "ipython3",
   "version": "3.12.5"
  }
 },
 "nbformat": 4,
 "nbformat_minor": 2
}
